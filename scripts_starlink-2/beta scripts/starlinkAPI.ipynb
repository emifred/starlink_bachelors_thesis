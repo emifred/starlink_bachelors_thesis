{
 "cells": [
  {
   "cell_type": "code",
   "execution_count": 1,
   "id": "9791be42-4a12-45ce-b77c-0786b93833d3",
   "metadata": {},
   "outputs": [],
   "source": [
    "import pandas as pd\n",
    "import math\n",
    "import numpy as np\n",
    "import matplotlib.pyplot as plt\n",
    "import matplotlib.dates as mdates\n",
    "import matplotlib.ticker as ticker\n",
    "from datetime import datetime\n",
    "\n",
    "\n",
    "import seaborn as sns"
   ]
  },
  {
   "cell_type": "code",
   "execution_count": 6,
   "id": "e81a2a96-5e66-4b2e-a802-3d8a34b35f51",
   "metadata": {},
   "outputs": [],
   "source": [
    "dateBegin1 = '2024-05-18 00'\n",
    "dateEnd1 = '2024-05-18 17'\n",
    "\n",
    "df_starlinkAPI = pd.read_csv(\"starlinkAPI.csv\") \n",
    "headerList = ['timestamp', 'id', 'hardware_version','software_version','state','uptime','snr','seconds_to_first_nonempty_slot','pop_ping_drop_rate','downlink_throughput_bps','uplink_throughput_bps','pop_ping_latency_ms','Alerts bit field','fraction_obstructed','currently_obstructed','seconds_obstructed','obstruction_duration','obstruction_interval','direction_azimuth','direction_elevation','is_snr_above_noise_floor'] \n",
    "df_starlinkAPI.to_csv(\"starlinkAPI.csv\", header=headerList, index=False) \n",
    "df_starlinkAPI['timestamp'] = pd.to_datetime(df_starlinkAPI['timestamp'])\n",
    "df_starlinkAPI = df_starlinkAPI.set_index('timestamp')\n",
    "\n",
    "df_starlinkAPI = df_starlinkAPI.loc[dateBegin1:dateEnd1]"
   ]
  },
  {
   "cell_type": "code",
   "execution_count": 7,
   "id": "c2e4d2be-4f4e-42f6-ac84-754fe3553b8d",
   "metadata": {},
   "outputs": [
    {
     "name": "stdout",
     "output_type": "stream",
     "text": [
      "timestamp\n",
      "2024-05-18 14:37:19    2.451008e+08\n",
      "2024-05-18 14:56:15    3.033656e+05\n",
      "2024-05-18 14:57:36    1.443939e+08\n",
      "2024-05-18 15:04:36    7.281312e+03\n",
      "2024-05-18 15:06:01    2.571947e+04\n",
      "                           ...     \n",
      "2024-05-18 17:05:01    2.343777e+04\n",
      "2024-05-18 17:06:01    2.444440e+04\n",
      "2024-05-18 17:07:01    3.326922e+04\n",
      "2024-05-18 17:08:01    2.424308e+04\n",
      "2024-05-18 17:09:01    2.608857e+04\n",
      "Name: downlink_throughput_bps, Length: 128, dtype: float64\n"
     ]
    }
   ],
   "source": [
    "print(df_starlinkAPI['downlink_throughput_bps'])"
   ]
  },
  {
   "cell_type": "code",
   "execution_count": null,
   "id": "0edca8c8-1902-459e-9a44-f0dba3703e27",
   "metadata": {},
   "outputs": [],
   "source": []
  }
 ],
 "metadata": {
  "kernelspec": {
   "display_name": "Python 3 (ipykernel)",
   "language": "python",
   "name": "python3"
  },
  "language_info": {
   "codemirror_mode": {
    "name": "ipython",
    "version": 3
   },
   "file_extension": ".py",
   "mimetype": "text/x-python",
   "name": "python",
   "nbconvert_exporter": "python",
   "pygments_lexer": "ipython3",
   "version": "3.10.13"
  }
 },
 "nbformat": 4,
 "nbformat_minor": 5
}
